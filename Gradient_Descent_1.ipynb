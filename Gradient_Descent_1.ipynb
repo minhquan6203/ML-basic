{
 "cells": [
  {
   "cell_type": "code",
   "execution_count": 61,
   "metadata": {},
   "outputs": [],
   "source": [
    "import numpy as np\n",
    "import matplotlib\n",
    "import matplotlib.pyplot as plt\n",
    "from sklearn import linear_model\n",
    "import matplotlib.animation as animation\n",
    "from IPython.display import HTML"
   ]
  },
  {
   "cell_type": "code",
   "execution_count": 62,
   "metadata": {},
   "outputs": [],
   "source": [
    "b=np.array([[2,5,7,9,11,16,19,23,22,29,29,35,37,40,46,42,39,31,30,28,20,15,10,6,3,8,8,9,12,14,15,20,18,23,26,25,27,30,32,31,33,35]]).T\n",
    "A=np.array([[2,3,4,5,6,7,8,9,10,11,12,13,14,15,16,17,18,19,20,21,22,23,24,25,26,27,28,29,30,31,32,33,34,35,36,37,38,39,40,41,42,43]]).T"
   ]
  },
  {
   "cell_type": "code",
   "execution_count": 63,
   "metadata": {},
   "outputs": [
    {
     "data": {
      "text/plain": [
       "[<matplotlib.lines.Line2D at 0x1b386b40700>]"
      ]
     },
     "execution_count": 63,
     "metadata": {},
     "output_type": "execute_result"
    },
    {
     "data": {
      "image/png": "[encoded data removed]",
      "text/plain": [
       "<Figure size 432x288 with 1 Axes>"
      ]
     },
     "metadata": {
      "needs_background": "light"
     },
     "output_type": "display_data"
    }
   ],
   "source": [
    "fig1=plt.figure(\"gradien descent for linear regresstion\")\n",
    "ax=plt.axes(xlim=(-10,60),ylim=(-10,50))\n",
    "plt.plot(A,b,'ro')"
   ]
  },
  {
   "cell_type": "code",
   "execution_count": 64,
   "metadata": {},
   "outputs": [
    {
     "data": {
      "text/plain": [
       "array([[-2.00876378e+01],\n",
       "       [ 8.67223405e+00],\n",
       "       [-4.47741425e-01],\n",
       "       [ 6.53839763e-03]])"
      ]
     },
     "execution_count": 64,
     "metadata": {},
     "output_type": "execute_result"
    }
   ],
   "source": [
    "def concatK(k):\n",
    "    one=np.ones((A.shape[0],1))\n",
    "    Abar=np.concatenate((one,A),axis=1)\n",
    "    for i in range(2,k+1,1):\n",
    "        A_square=np.array([Abar[:,1]**i]).T\n",
    "        Abar=np.concatenate((Abar,A_square),axis=1)\n",
    "    return Abar\n",
    "Abar=concatK(3)\n",
    "X=np.dot(Abar.T,Abar)\n",
    "y=np.dot(Abar.T,b)\n",
    "w=np.dot(np.linalg.pinv(X),y)\n",
    "w"
   ]
  },
  {
   "cell_type": "code",
   "execution_count": 65,
   "metadata": {},
   "outputs": [
    {
     "data": {
      "text/plain": [
       "[<matplotlib.lines.Line2D at 0x1b387d002b0>]"
      ]
     },
     "execution_count": 65,
     "metadata": {},
     "output_type": "execute_result"
    },
    {
     "data": {
      "image/png": "[encoded data removed]",
      "text/plain": [
       "<Figure size 432x288 with 1 Axes>"
      ]
     },
     "metadata": {
      "needs_background": "light"
     },
     "output_type": "display_data"
    }
   ],
   "source": [
    "fig1=plt.figure(\"gradien descent for linear regresstion\")\n",
    "ax=plt.axes(xlim=(-10,60),ylim=(-10,50))\n",
    "x0_gd=np.linspace(1,46,10000)\n",
    "y0=w[0][0]+w[1][0]*x0_gd+w[2][0]*x0_gd**2+w[3][0]*x0_gd**3\n",
    "plt.plot(x0_gd,y0)\n",
    "plt.plot(A,b,'ro')"
   ]
  },
  {
   "cell_type": "code",
   "execution_count": 66,
   "metadata": {},
   "outputs": [],
   "source": [
    "def cost(x):\n",
    "    m=A.shape[0]\n",
    "    return 0.5/m*np.linalg.norm(A.dot(x)-b,2)**2\n",
    "\n",
    "\n",
    "def grad(x):\n",
    "    m=A.shape[0]\n",
    "    return 1/m*A.T.dot(A.dot(x)-b)\n",
    "\n",
    "#KIỂM TRA ĐẠO HÀM\n",
    "def check_grad(x):\n",
    "    eps=1e-4\n",
    "    g=np.zeros_like(x)\n",
    "    for i in range(len(x)):\n",
    "        x1=x.copy()\n",
    "        x2=x.copy()\n",
    "        x1[i]+=eps\n",
    "        x2[i]-=eps\n",
    "        g[i]=(cost(x1)-cost(x2))/(2*eps)\n",
    "\n",
    "    g_rad=grad(x)\n",
    "    if np.linalg.norm(g-g_rad) >1e-5:\n",
    "        print(\"warning: check gradient function!!\")\n",
    "    else:\n",
    "        print(\"correct\")\n",
    "    \n",
    "def gradient_descent(x_init,learning_rate,iteration):\n",
    "    x_list=[x_init]\n",
    "    m=A.shape[0]\n",
    "    for i in range(iteration):\n",
    "        x_new=x_list[-1]-learning_rate*grad(x_list[-1])\n",
    "        if np.linalg.norm(grad(x_new))/m <0.001:\n",
    "            break\n",
    "        x_list.append(x_new)\n",
    "    return x_list"
   ]
  },
  {
   "cell_type": "code",
   "execution_count": 67,
   "metadata": {},
   "outputs": [
    {
     "name": "stderr",
     "output_type": "stream",
     "text": [
      "C:\\Users\\nguye\\AppData\\Local\\Temp\\ipykernel_5720\\1212462621.py:31: RuntimeWarning: invalid value encountered in subtract\n",
      "  x_new=x_list[-1]-learning_rate*grad(x_list[-1])\n"
     ]
    }
   ],
   "source": [
    "fig1=plt.figure(\"gradien descent for linear regresstion\",figsize=(15,8))\n",
    "ax=plt.axes(xlim=(-10,60),ylim=(-10,60))\n",
    "x_init=np.array([[1],[1],[1],[1]])\n",
    "y0_init=x_init[0][0]+x_init[1][0]*x0_gd+x_init[2][0]*x0_gd**2+x_init[3][0]*x0_gd**3\n",
    "plt.plot(x0_gd,y0)\n",
    "plt.plot(A,b,'ro')\n",
    "plt.plot(x0_gd,y0_init,color='black')\n",
    "\n",
    "one=np.ones((A.shape[0],1))\n",
    "A=np.concatenate((one,A),axis=1)\n",
    "A_square=np.array([A[:,1]**2]).T\n",
    "A=np.concatenate((A,A_square),axis=1)\n",
    "A_square=np.array([A[:,1]**3]).T\n",
    "A=np.concatenate((A,A_square),axis=1)\n",
    "\n",
    "iteration=10000000\n",
    "learning_rate=0.001\n",
    "x_list=gradient_descent(x_init,learning_rate,iteration)\n",
    "for i in range(len(x_list)):\n",
    "    y0_x_list=x_list[i][0]+x_list[i][1]*x0_gd+x_list[i][2]*x0_gd**2+x_list[i][3]*x0_gd**3\n",
    "    plt.plot(x0_gd,y0_x_list,color='black',alpha=0.4)\n",
    "\n",
    "# line , =ax.plot([],[],color='blue')\n",
    "# def update(i):\n",
    "#     y0_gd=x_list[i][0][0]+x_list[i][1][0]*x0_gd+x_list[i][2]*x0_gd**2+x_list[i][3]*x0_gd**3\n",
    "#     line.set_data(x0_gd,y0_gd)\n",
    "#     return line,\n",
    "# iters=np.arange(1,len(x_list),1)\n",
    "# line_a=animation.FuncAnimation(fig1,update,iters,interval=50,blit=True)\n",
    "# # plt.legend((\"value in each gd iteration\",'solution by formular','inital value for gd'),loc=(0.52,0.01))\n",
    "# # ltext=plt.gca().get_legend().get_texts()\n",
    "# HTML(line_a.to_jshtml())"
   ]
  },
  {
   "cell_type": "code",
   "execution_count": null,
   "metadata": {},
   "outputs": [],
   "source": []
  }
 ],
 "metadata": {
  "kernelspec": {
   "display_name": "Python 3.8.10 64-bit",
   "language": "python",
   "name": "python3"
  },
  "language_info": {
   "codemirror_mode": {
    "name": "ipython",
    "version": 3
   },
   "file_extension": ".py",
   "mimetype": "text/x-python",
   "name": "python",
   "nbconvert_exporter": "python",
   "pygments_lexer": "ipython3",
   "version": "3.8.10"
  },
  "orig_nbformat": 4,
  "vscode": {
   "interpreter": {
    "hash": "b9ab610a55a5176458df2dff96f548f03c9f71ac1d536db2e7e5f1815100f41c"
   }
  }
 },
 "nbformat": 4,
 "nbformat_minor": 2
}
