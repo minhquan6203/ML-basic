{
 "cells": [
  {
   "cell_type": "code",
   "execution_count": 497,
   "metadata": {},
   "outputs": [],
   "source": [
    "import matplotlib.pyplot as plt\n",
    "import numpy as np\n",
    "import pandas as pd\n",
    "from sklearn import neighbors, datasets\n",
    "from sklearn.model_selection import train_test_split\n",
    "from sklearn.metrics import accuracy_score\n",
    "from sklearn.metrics import confusion_matrix\n",
    "from sklearn.preprocessing import StandardScaler"
   ]
  },
  {
   "cell_type": "code",
   "execution_count": 498,
   "metadata": {},
   "outputs": [
    {
     "data": {
      "text/plain": [
       "0    900\n",
       "1    225\n",
       "Name: label, dtype: int64"
      ]
     },
     "execution_count": 498,
     "metadata": {},
     "output_type": "execute_result"
    }
   ],
   "source": [
    "customer=pd.read_csv(\"C:\\\\Users\\\\nguye\\\\OneDrive\\\\Desktop\\\\ML\\\\archive\\\\customer_data.csv\")\n",
    "customer=customer.sort_values('id',axis=0,ascending=True)\n",
    "customer.fillna(customer['fea_2'].mean(),inplace=True)\n",
    "customer['label'].value_counts()"
   ]
  },
  {
   "cell_type": "markdown",
   "metadata": {},
   "source": [
    "customer’s card payment history :\n",
    "\n",
    "id: customer id \n",
    "\n",
    "OVD_t1: number of times overdue type 1\n",
    "\n",
    "OVD_t2: number of times overdue type 2\n",
    "\n",
    "OVD_t3: number of times overdue type 3\n",
    "\n",
    "OVD_sum: total overdue days //tổng số ngày quá hạn\n",
    "\n",
    "pay_normal: number of times normal payment //số lần thanh toán thường\n",
    "\n",
    "prod_code: credit product code //mã tín dụng\n",
    "\n",
    "prod_limit: credit limit of product // hạn mức tín dụng\n",
    "\n",
    "update_date: account update date //ngày cập nhật tài khoản\n",
    "\n",
    "new_balance: current balance of product //số dư hiện tại\n",
    "\n",
    "highest_balance: highest balance in history //số dư cao nhất trong lịch sử\n",
    "\n",
    "report_date: date of recent payment //ngày thanh toán gần đây"
   ]
  },
  {
   "cell_type": "markdown",
   "metadata": {},
   "source": [
    "customer_data.csv:\n",
    "\n",
    "customer’s demographic data and category attributes which have been encoded.\n",
    "\n",
    "Category features are fea1, fea3, fea5, fea6, fea7, fea9.\n",
    "\n",
    "label is 1, the customer is in high credit risk\n",
    "\n",
    "label is 0, the customer is in low credit risk\n"
   ]
  },
  {
   "cell_type": "code",
   "execution_count": 499,
   "metadata": {},
   "outputs": [],
   "source": [
    "X=customer.drop('label',axis=1)\n",
    "Y=customer['label']\n",
    "np.random.seed(5)\n",
    "Xtrain,Xtest,Ytrain,Ytest=train_test_split(X,Y,test_size=0.3)\n"
   ]
  },
  {
   "cell_type": "code",
   "execution_count": 500,
   "metadata": {},
   "outputs": [
    {
     "data": {
      "text/plain": [
       "array([[ 0.65759789, -0.34942734,  0.93493906, ...,  0.96149353,\n",
       "        -0.63146772, -1.19393682],\n",
       "       [ 0.6565058 , -0.34942734, -1.45626856, ...,  0.96149353,\n",
       "         1.82168728,  1.11706051],\n",
       "       [ 0.65754966, -0.34942734, -1.55320941, ...,  0.96149353,\n",
       "        -0.11173012, -1.19393682],\n",
       "       ...,\n",
       "       [ 0.66222318,  1.09035965, -0.03446944, ...,  0.96149353,\n",
       "        -0.62467812, -1.19393682],\n",
       "       [ 0.66788095, -1.06932083, -0.13141029, ..., -1.36322355,\n",
       "         1.12100592,  0.6594063 ],\n",
       "       [-1.51151935, -0.34942734,  1.51658415, ..., -0.20086501,\n",
       "        -0.70261934, -1.19393682]])"
      ]
     },
     "execution_count": 500,
     "metadata": {},
     "output_type": "execute_result"
    }
   ],
   "source": [
    "sc=StandardScaler()\n",
    "Xtrain=sc.fit_transform(Xtrain)\n",
    "Xtest=sc.transform(Xtest)\n",
    "Xtrain\n",
    "Xtest"
   ]
  },
  {
   "cell_type": "code",
   "execution_count": 511,
   "metadata": {},
   "outputs": [
    {
     "data": {
      "text/plain": [
       "79.88165680473372"
      ]
     },
     "execution_count": 511,
     "metadata": {},
     "output_type": "execute_result"
    }
   ],
   "source": [
    "\n",
    "model=neighbors.KNeighborsClassifier(n_neighbors=16,p=1,weights=\"distance\")\n",
    "model.fit(Xtrain,Ytrain)\n",
    "Ypredict=model.predict(Xtest)\n",
    "100*accuracy_score(Ytest,Ypredict)"
   ]
  },
  {
   "cell_type": "code",
   "execution_count": 514,
   "metadata": {},
   "outputs": [
    {
     "name": "stdout",
     "output_type": "stream",
     "text": [
      "0.799250181407724\n"
     ]
    }
   ],
   "source": [
    "from sklearn.model_selection import GridSearchCV\n",
    "\n",
    "k = np.arange(1, 20).tolist()\n",
    "p = [1, 2]\n",
    "\n",
    "param_grid = dict(n_neighbors = k, p = p)\n",
    "\n",
    "clf = neighbors.KNeighborsClassifier()\n",
    "\n",
    "grid_model = GridSearchCV(estimator = clf, param_grid = param_grid, cv = 5)\n",
    "Ypredict = grid_model.fit(Xtrain, Ytrain)\n",
    "\n",
    "best_score, best_params =  Ypredict.best_score_, Ypredict.best_params_\n",
    "print(best_score)"
   ]
  },
  {
   "cell_type": "code",
   "execution_count": 503,
   "metadata": {},
   "outputs": [
    {
     "data": {
      "text/plain": [
       "79.88165680473372"
      ]
     },
     "execution_count": 503,
     "metadata": {},
     "output_type": "execute_result"
    }
   ],
   "source": [
    "from sklearn.linear_model import LogisticRegression\n",
    "model=LogisticRegression()\n",
    "model.fit(Xtrain,Ytrain)\n",
    "Ypredict=model.predict(Xtest)\n",
    "100*accuracy_score(Ytest,Ypredict)"
   ]
  },
  {
   "cell_type": "code",
   "execution_count": 504,
   "metadata": {},
   "outputs": [
    {
     "data": {
      "text/plain": [
       "79.58579881656804"
      ]
     },
     "execution_count": 504,
     "metadata": {},
     "output_type": "execute_result"
    }
   ],
   "source": [
    "from  sklearn.ensemble import RandomForestClassifier\n",
    "model=RandomForestClassifier(n_estimators=200,random_state=50)\n",
    "model.fit(Xtrain,Ytrain)\n",
    "Ypredict=model.predict(Xtest)\n",
    "100*accuracy_score(Ytest,Ypredict)"
   ]
  },
  {
   "cell_type": "code",
   "execution_count": 505,
   "metadata": {},
   "outputs": [
    {
     "name": "stdout",
     "output_type": "stream",
     "text": [
      "[15:44:45] WARNING: C:/Users/Administrator/workspace/xgboost-win64_release_1.5.1/src/learner.cc:1115: Starting in XGBoost 1.3.0, the default evaluation metric used with the objective 'binary:logistic' was changed from 'error' to 'logloss'. Explicitly set eval_metric if you'd like to restore the old behavior.\n"
     ]
    },
    {
     "name": "stderr",
     "output_type": "stream",
     "text": [
      "c:\\Users\\nguye\\AppData\\Local\\Programs\\Python\\Python38\\lib\\site-packages\\xgboost\\sklearn.py:1224: UserWarning: The use of label encoder in XGBClassifier is deprecated and will be removed in a future release. To remove this warning, do the following: 1) Pass option use_label_encoder=False when constructing XGBClassifier object; and 2) Encode your labels (y) as integers starting with 0, i.e. 0, 1, 2, ..., [num_class - 1].\n",
      "  warnings.warn(label_encoder_deprecation_msg, UserWarning)\n"
     ]
    },
    {
     "data": {
      "text/plain": [
       "77.2189349112426"
      ]
     },
     "execution_count": 505,
     "metadata": {},
     "output_type": "execute_result"
    }
   ],
   "source": [
    "import xgboost as xgb\n",
    "model=xgb.XGBClassifier(n_estimators=20,random_state=5)\n",
    "model.fit(Xtrain,Ytrain)\n",
    "Ypredict=model.predict(Xtest)\n",
    "100*accuracy_score(Ytest,Ypredict)"
   ]
  },
  {
   "cell_type": "code",
   "execution_count": 506,
   "metadata": {},
   "outputs": [
    {
     "data": {
      "text/plain": [
       "76.92307692307693"
      ]
     },
     "execution_count": 506,
     "metadata": {},
     "output_type": "execute_result"
    }
   ],
   "source": [
    "from  sklearn.ensemble import GradientBoostingClassifier\n",
    "model=GradientBoostingClassifier(learning_rate=0.3,n_estimators=100,random_state=20)\n",
    "model.fit(Xtrain,Ytrain)\n",
    "Ypredict=model.predict(Xtest)\n",
    "100*accuracy_score(Ytest,Ypredict)"
   ]
  },
  {
   "cell_type": "code",
   "execution_count": 507,
   "metadata": {},
   "outputs": [],
   "source": [
    "# from sklearn.neighbors import KNeighborsClassifier\n",
    "# cls=KNeighborsClassifier()\n",
    "# cls.fit(Xtrain,Ytrain)\n",
    "# Ypredict=cls.predict(Xtest)\n",
    "# 100*accuracy_score(Ytest,Ypredict)"
   ]
  },
  {
   "cell_type": "code",
   "execution_count": 508,
   "metadata": {},
   "outputs": [
    {
     "data": {
      "text/plain": [
       "array([[249,  21],\n",
       "       [ 57,  11]], dtype=int64)"
      ]
     },
     "execution_count": 508,
     "metadata": {},
     "output_type": "execute_result"
    }
   ],
   "source": [
    "confusion_matrix(Ytest,Ypredict)\n"
   ]
  },
  {
   "cell_type": "code",
   "execution_count": 509,
   "metadata": {},
   "outputs": [],
   "source": [
    "# Xset,Yset=Xtrain,Ytrain\n",
    "# x1,x2=np.meshgrid(np.arange(start=Xset[:,0].min()-1,stop=Xset[:,0].max()+1,step=0.01),\n",
    "#                   np.arange(start=Xset[:,1].min()-1,stop=Xset[:,1].max()+1,step=0.01))\n",
    "# plt.contourf(x1,x2,cls.predict(np.array([x1.ravel(),x2.ravel()]).T).reshape(x1.shape),\n",
    "#         alpha=0.75,cmap=ListedColormap(('red','green')))\n",
    "# plt.xlim(x1.min(),x1.max())\n",
    "# plt.ylim(x2.min(),x2.max())\n",
    "# for i,j in enumerate(np.uniqur(Yset)):\n",
    "#     plt.scatter(Xset[Yset==j,0],Xset[Yset==j,1],\n",
    "#     c=ListedColormap(('red','green'))(i),label=j)"
   ]
  }
 ],
 "metadata": {
  "kernelspec": {
   "display_name": "Python 3.8.10 64-bit",
   "language": "python",
   "name": "python3"
  },
  "language_info": {
   "codemirror_mode": {
    "name": "ipython",
    "version": 3
   },
   "file_extension": ".py",
   "mimetype": "text/x-python",
   "name": "python",
   "nbconvert_exporter": "python",
   "pygments_lexer": "ipython3",
   "version": "3.8.10"
  },
  "orig_nbformat": 4,
  "vscode": {
   "interpreter": {
    "hash": "b9ab610a55a5176458df2dff96f548f03c9f71ac1d536db2e7e5f1815100f41c"
   }
  }
 },
 "nbformat": 4,
 "nbformat_minor": 2
}
