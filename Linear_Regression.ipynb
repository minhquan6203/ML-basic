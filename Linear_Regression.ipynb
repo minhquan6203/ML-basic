{
 "cells": [
  {
   "cell_type": "code",
   "execution_count": 18,
   "metadata": {},
   "outputs": [],
   "source": [
    "import numpy as np\n",
    "import matplotlib.pyplot as plt"
   ]
  },
  {
   "cell_type": "code",
   "execution_count": 19,
   "metadata": {},
   "outputs": [],
   "source": [
    "X=np.array([[147,150,153,158,163,165,168,170,173,175,178,180,183]]).T\n",
    "y=np.array([49,50,51,54,58,59,60,62,63,64,66,67,68])"
   ]
  },
  {
   "cell_type": "code",
   "execution_count": 20,
   "metadata": {},
   "outputs": [
    {
     "data": {
      "text/plain": [
       "array([-33.73541021,   0.55920496])"
      ]
     },
     "execution_count": 20,
     "metadata": {},
     "output_type": "execute_result"
    }
   ],
   "source": [
    "one=np.ones((X.shape[0],1))\n",
    "Xbar=np.concatenate((one,X),axis=1)\n",
    "A=np.dot(Xbar.T,Xbar)\n",
    "b=np.dot(Xbar.T,y)\n",
    "w=np.dot(np.linalg.pinv(A),b)\n",
    "w"
   ]
  },
  {
   "cell_type": "code",
   "execution_count": 25,
   "metadata": {},
   "outputs": [
    {
     "data": {
      "text/plain": [
       "[<matplotlib.lines.Line2D at 0x268e331fac0>]"
      ]
     },
     "execution_count": 25,
     "metadata": {},
     "output_type": "execute_result"
    },
    {
     "data": {
      "image/png": "[encoded data removed]",
      "text/plain": [
       "<Figure size 432x288 with 1 Axes>"
      ]
     },
     "metadata": {
      "needs_background": "light"
     },
     "output_type": "display_data"
    }
   ],
   "source": [
    "plt.axes(xlim=(130,200),ylim=(40,70))\n",
    "x0=np.linspace(40,200,10000)\n",
    "y0=w[0]+w[1]*x0\n",
    "plt.plot(X,y,'ro')\n",
    "plt.plot(x0,y0)"
   ]
  },
  {
   "cell_type": "code",
   "execution_count": 23,
   "metadata": {},
   "outputs": [],
   "source": [
    "def B(X,y):\n",
    "    n=len(X)\n",
    "    sumXy=sumX=sumY=sumX2=0\n",
    "    for i in range(n):\n",
    "        sumXy+=X[i]*y[i]\n",
    "        sumX+=X[i]\n",
    "        sumX2+=X[i]**2\n",
    "        sumY+=y[i]\n",
    "    return (n*sumXy-sumX*sumY)/(n*sumX2-sumX**2)"
   ]
  },
  {
   "cell_type": "code",
   "execution_count": 24,
   "metadata": {},
   "outputs": [
    {
     "name": "stdout",
     "output_type": "stream",
     "text": [
      "0.5592049619396674\n",
      "-33.73541020580774\n"
     ]
    }
   ],
   "source": [
    "from sklearn import datasets,linear_model\n",
    "kq=linear_model.LinearRegression()\n",
    "kq.fit(X,y)\n",
    "print(kq.coef_[0])\n",
    "print(kq.intercept_)"
   ]
  }
 ],
 "metadata": {
  "kernelspec": {
   "display_name": "Python 3.8.10 64-bit",
   "language": "python",
   "name": "python3"
  },
  "language_info": {
   "codemirror_mode": {
    "name": "ipython",
    "version": 3
   },
   "file_extension": ".py",
   "mimetype": "text/x-python",
   "name": "python",
   "nbconvert_exporter": "python",
   "pygments_lexer": "ipython3",
   "version": "3.8.10"
  },
  "orig_nbformat": 4,
  "vscode": {
   "interpreter": {
    "hash": "b9ab610a55a5176458df2dff96f548f03c9f71ac1d536db2e7e5f1815100f41c"
   }
  }
 },
 "nbformat": 4,
 "nbformat_minor": 2
}
